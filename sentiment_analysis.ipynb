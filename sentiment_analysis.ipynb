{
 "cells": [
  {
   "cell_type": "code",
   "execution_count": 1,
   "id": "be1b0055",
   "metadata": {},
   "outputs": [],
   "source": [
    "import pandas as pd\n",
    "import pickle\n",
    "import numpy as np\n",
    "\n",
    "import matplotlib.pyplot as plt\n",
    "# import seaborn as sns\n",
    "%matplotlib inline\n",
    "\n",
    "from vaderSentiment.vaderSentiment import SentimentIntensityAnalyzer\n",
    "\n",
    "import scattertext as st"
   ]
  },
  {
   "cell_type": "code",
   "execution_count": 2,
   "id": "30e13012",
   "metadata": {},
   "outputs": [],
   "source": [
    "# Function to display basic sentiment results.\n",
    "# Print out average, most positive, and most negative sentiment scores (and associated tweets).\n",
    "\n",
    "def sentiment_report(df):\n",
    "    print(f\"Average Sentiment Score: {np.mean(df.score):.3f}\")\n",
    "    \n",
    "    print(\"\\n\")\n",
    "\n",
    "    print(\"Most Positive Tweet:\", df.iloc[df.score.idxmax()][\"Text\"])\n",
    "    print(f\"Sentiment Score: {df.iloc[df.score.idxmax()]['score']: .3f}\")\n",
    "\n",
    "    print(\"\\n\")\n",
    "\n",
    "    print(\"Most Negative Tweet:\", df.iloc[df.score.idxmin()][\"Text\"])\n",
    "    print(f\"Sentiment Score: {df.iloc[df.score.idxmin()]['score']: .3f}\")\n",
    "    \n",
    "    print(\"\\n\")\n",
    "\n",
    "    print(\"Most Favorited Tweet:\", df.iloc[df.Favorite_Count.idxmax()][\"Text\"])\n",
    "    print(f\"Sentiment Score: {df.iloc[df.Favorite_Count.idxmax()]['score']: .3f}\")\n",
    "    print(f\"Number of Favorites: {df.iloc[df.Favorite_Count.idxmax()]['Favorite_Count']: .0f}\")\n",
    "\n",
    "    print(\"\\n\")\n",
    "\n",
    "    print(\"Most Retweeted Tweet:\", df.iloc[df.Retweet_Count.idxmax()][\"Text\"])\n",
    "    print(f\"Sentiment Score: {df.iloc[df.Retweet_Count.idxmax()]['score']: .3f}\")\n",
    "    print(f\"Number of Retweets: {df.iloc[df.Retweet_Count.idxmax()]['Retweet_Count']: .0f}\")\n",
    "\n",
    "    "
   ]
  },
  {
   "cell_type": "markdown",
   "id": "2e7b961f",
   "metadata": {},
   "source": [
    "# Start with examining the initial twitter search (regular terms, not hashtags)"
   ]
  },
  {
   "cell_type": "code",
   "execution_count": 3,
   "id": "4b21cf5b",
   "metadata": {},
   "outputs": [],
   "source": [
    "with open('./data/df_no_hashtags.pickle','rb') as read_file:\n",
    "    df = pickle.load(read_file)"
   ]
  },
  {
   "cell_type": "code",
   "execution_count": 4,
   "id": "a63934a9",
   "metadata": {},
   "outputs": [
    {
     "name": "stdout",
     "output_type": "stream",
     "text": [
      "<class 'pandas.core.frame.DataFrame'>\n",
      "RangeIndex: 10000 entries, 0 to 9999\n",
      "Data columns (total 23 columns):\n",
      " #   Column           Non-Null Count  Dtype              \n",
      "---  ------           --------------  -----              \n",
      " 0   Created          10000 non-null  datetime64[ns, UTC]\n",
      " 1   User_ID          10000 non-null  float64            \n",
      " 2   User_Name        10000 non-null  object             \n",
      " 3   Text             10000 non-null  object             \n",
      " 4   Description      10000 non-null  object             \n",
      " 5   Location         10000 non-null  object             \n",
      " 6   Followers_Count  10000 non-null  float64            \n",
      " 7   Friends_Count    10000 non-null  float64            \n",
      " 8   Favorite_Count   10000 non-null  float64            \n",
      " 9   Retweet_Count    10000 non-null  float64            \n",
      " 10  spacy_doc        10000 non-null  object             \n",
      " 11  docs_clean       10000 non-null  object             \n",
      " 12  Text_clean       10000 non-null  object             \n",
      " 13  Politics         10000 non-null  bool               \n",
      " 14  Giveaways        10000 non-null  bool               \n",
      " 15  Finances         10000 non-null  bool               \n",
      " 16  Travel           10000 non-null  bool               \n",
      " 17  Hopes_Dreams     10000 non-null  bool               \n",
      " 18  New_Beginnings   10000 non-null  bool               \n",
      " 19  K_Pop_Band       10000 non-null  bool               \n",
      " 20  Unidentified_1   10000 non-null  bool               \n",
      " 21  Unidentified_2   10000 non-null  bool               \n",
      " 22  Unidentified_3   10000 non-null  bool               \n",
      "dtypes: bool(10), datetime64[ns, UTC](1), float64(5), object(7)\n",
      "memory usage: 1.1+ MB\n"
     ]
    }
   ],
   "source": [
    "df.info()"
   ]
  },
  {
   "cell_type": "code",
   "execution_count": 5,
   "id": "c30b0f62",
   "metadata": {},
   "outputs": [],
   "source": [
    "# Calculate Sentiment score.\n",
    "\n",
    "# Using raw text from tweets (NOT cleaned version).\n",
    "analyzer = SentimentIntensityAnalyzer()\n",
    "df['score'] = df.Text.map(analyzer.polarity_scores).map(lambda x: x.get('compound'))"
   ]
  },
  {
   "cell_type": "code",
   "execution_count": 6,
   "id": "2be3f7a0",
   "metadata": {},
   "outputs": [
    {
     "name": "stdout",
     "output_type": "stream",
     "text": [
      "Average Sentiment Score: 0.178\n",
      "\n",
      "\n",
      "Most Positive Tweet: RT @Sandyy_Dunes: 𝘽𝙖𝙧𝙪𝙣'𝙨 𝙉𝙚𝙬 𝙔𝙚𝙖𝙧 𝙧𝙚𝙨𝙤𝙡𝙪𝙩𝙞𝙤𝙣🤣🤣🤣🤣😘😘❣️❣️\n",
      "\n",
      "\"New Year Resolution - buy another pair of denims 👖\n",
      "\n",
      "#happynewyear #2022\"\n",
      "\n",
      "https:/…\n",
      "Sentiment Score:  0.979\n",
      "\n",
      "\n",
      "Most Negative Tweet: @wieyngi NO CAN WE PLS 😭😭😭😭😭😭😭😭😭😭😭😭😭😭 it’s acc my new yeArs resolution to travel loads of places by myself this yea… https://t.co/y1G3NmhvAG\n",
      "Sentiment Score: -0.992\n",
      "\n",
      "\n",
      "Most Favorited Tweet: New Years resolution…..if it ain’t broke don’t fix it ☔️ https://t.co/cQrQCx6rq8\n",
      "Sentiment Score: -0.421\n",
      "Number of Favorites:  16587\n",
      "\n",
      "\n",
      "Most Retweeted Tweet: RT @kiersi: my only 2022 resolution https://t.co/7esYQU5mNl\n",
      "Sentiment Score:  0.000\n",
      "Number of Retweets:  9282\n"
     ]
    }
   ],
   "source": [
    "sentiment_report(df)"
   ]
  },
  {
   "cell_type": "code",
   "execution_count": 7,
   "id": "3c14b47d",
   "metadata": {},
   "outputs": [
    {
     "name": "stdout",
     "output_type": "stream",
     "text": [
      "Average Sentiment Score: 0.497\n",
      "\n",
      "\n",
      "Most Positive Tweet: RT @michaelbt718: 🎉NEW YEAR’S GIVEAWAY 🎉\n",
      "\n",
      "To enter you need to:\n",
      "*RETWEET &amp; LIKE❤️♻️\n",
      "*FOLLOW ME‼️\n",
      "*COMMENT YOUR NEW YEARS RESOLUTION🚨\n",
      "\n",
      "Ends…\n",
      "Sentiment Score:  0.824\n",
      "\n",
      "\n",
      "Most Negative Tweet: RT @ollysmithtravel: My New Year's resolution is to tweet less about Covid and more about travel. \n",
      "\n",
      "So here are the countries at the top of…\n",
      "Sentiment Score:  0.202\n",
      "\n",
      "\n",
      "Most Favorited Tweet: my 2022 new years resolution is to prioritize self care and treating myself. Therefore, buying the new bundle is justifiable, okay?\n",
      "Sentiment Score:  0.625\n",
      "Number of Favorites:  343\n",
      "\n",
      "\n",
      "Most Retweeted Tweet: RT @michaelbt718: 🎉NEW YEAR’S GIVEAWAY 🎉\n",
      "\n",
      "To enter you need to:\n",
      "*RETWEET &amp; LIKE❤️♻️\n",
      "*FOLLOW ME‼️\n",
      "*COMMENT YOUR NEW YEARS RESOLUTION🚨\n",
      "\n",
      "Ends…\n",
      "Sentiment Score:  0.824\n",
      "Number of Retweets:  487\n"
     ]
    }
   ],
   "source": [
    "sentiment_report(df.query(\"Travel == True\").reset_index())"
   ]
  },
  {
   "cell_type": "code",
   "execution_count": 8,
   "id": "6b7d2ae9",
   "metadata": {},
   "outputs": [
    {
     "name": "stdout",
     "output_type": "stream",
     "text": [
      "Average Sentiment Score: -0.003\n",
      "\n",
      "\n",
      "Most Positive Tweet: RT @aseitzwald: The polarization of Jan. 6 is not just a Washington thing. Here's 49 of 54 Republicans (90%) present in the Maine House vot…\n",
      "Sentiment Score:  0.000\n",
      "\n",
      "\n",
      "Most Negative Tweet: RT @randybillings: A spokesman said the caucus has no formal position, even though 49 of 54 House Republicans present opposed the resolutio…\n",
      "Sentiment Score: -0.296\n",
      "\n",
      "\n",
      "Most Favorited Tweet: The polarization of Jan. 6 is not just a Washington thing. Here's 49 of 54 Republicans (90%) present in the Maine H… https://t.co/nXAGuaY3Nl\n",
      "Sentiment Score:  0.000\n",
      "Number of Favorites:  658\n",
      "\n",
      "\n",
      "Most Retweeted Tweet: RT @aseitzwald: The polarization of Jan. 6 is not just a Washington thing. Here's 49 of 54 Republicans (90%) present in the Maine House vot…\n",
      "Sentiment Score:  0.000\n",
      "Number of Retweets:  342\n"
     ]
    }
   ],
   "source": [
    "sentiment_report(df.query(\"Politics == True\").reset_index())"
   ]
  },
  {
   "cell_type": "code",
   "execution_count": 9,
   "id": "d2a91942",
   "metadata": {},
   "outputs": [
    {
     "name": "stdout",
     "output_type": "stream",
     "text": [
      "Average Sentiment Score: 0.692\n",
      "\n",
      "\n",
      "Most Positive Tweet: RT @michaelbt718: 🎉NEW YEAR’S GIVEAWAY 🎉\n",
      "\n",
      "To enter you need to:\n",
      "*RETWEET &amp; LIKE❤️♻️\n",
      "*FOLLOW ME‼️\n",
      "*COMMENT YOUR NEW YEARS RESOLUTION🚨\n",
      "\n",
      "Ends…\n",
      "Sentiment Score:  0.824\n",
      "\n",
      "\n",
      "Most Negative Tweet: RT @ZachCR_: ⚠️5x New Year Pass Royale Giveaway!!⚠️\n",
      "\n",
      "How to enter:\n",
      "\n",
      "Follow ✅\n",
      "Retweet 🔁\n",
      "Like ❤️\n",
      "Comment New Years Resolution💬\n",
      "\n",
      "[OPTIONAL] —…\n",
      "Sentiment Score:  0.474\n",
      "\n",
      "\n",
      "Most Favorited Tweet: RT @isoroomnft: [2️⃣0️⃣2️⃣2️⃣isoroom New Year Giveaway!🎉]\n",
      "\n",
      "2021, you brought our isofam together, we are grateful.\n",
      "2022, will you bring us…\n",
      "Sentiment Score:  0.718\n",
      "Number of Favorites:  0\n",
      "\n",
      "\n",
      "Most Retweeted Tweet: RT @isoroomnft: [2️⃣0️⃣2️⃣2️⃣isoroom New Year Giveaway!🎉]\n",
      "\n",
      "2021, you brought our isofam together, we are grateful.\n",
      "2022, will you bring us…\n",
      "Sentiment Score:  0.718\n",
      "Number of Retweets:  1504\n"
     ]
    }
   ],
   "source": [
    "sentiment_report(df.query(\"Giveaways == True\").reset_index())"
   ]
  },
  {
   "cell_type": "code",
   "execution_count": 10,
   "id": "f95318e9",
   "metadata": {},
   "outputs": [
    {
     "name": "stdout",
     "output_type": "stream",
     "text": [
      "Average Sentiment Score: 0.302\n",
      "\n",
      "\n",
      "Most Positive Tweet: 2022 resolution: Be more financial stable!\n",
      "💸 I am walking in financial freedom, I am thankful that every single one… https://t.co/lT2uV9HovD\n",
      "Sentiment Score:  0.893\n",
      "\n",
      "\n",
      "Most Negative Tweet: RT @AJEnglish: Iran says it has begun paying families over downed Ukraine International Airlines Flight that killed 176 people https://t.co…\n",
      "Sentiment Score: -0.670\n",
      "\n",
      "\n",
      "Most Favorited Tweet: Iran says it has begun paying families over downed Ukraine International Airlines Flight that killed 176 people… https://t.co/TAdG3ZqnPd\n",
      "Sentiment Score: -0.670\n",
      "Number of Favorites:  181\n",
      "\n",
      "\n",
      "Most Retweeted Tweet: RT @ossia: Take the 2022 Become-a-Dev New Year's Resolution Challenge:\n",
      "📊Max your stats in #LearnToCodeRPG\n",
      "⌨️Start #100DaysOfCode\n",
      "🛢️Finish t…\n",
      "Sentiment Score:  0.077\n",
      "Number of Retweets:  408\n"
     ]
    }
   ],
   "source": [
    "sentiment_report(df.query(\"Finances == True\").reset_index())"
   ]
  },
  {
   "cell_type": "code",
   "execution_count": 11,
   "id": "1e9e54e5",
   "metadata": {},
   "outputs": [
    {
     "name": "stdout",
     "output_type": "stream",
     "text": [
      "Average Sentiment Score: 0.367\n",
      "\n",
      "\n",
      "Most Positive Tweet: RT @WhatsApp: 📝 A new year means new goals, hopes, and dreams. This week we’ve been reflecting on a few resolution ideas to share for some…\n",
      "Sentiment Score:  0.772\n",
      "\n",
      "\n",
      "Most Negative Tweet: RT @UN: Kazakhstan: Amid violence in the country, @UNHumanRights chief @MBachelet urges security forces, protesters and all others, to refr…\n",
      "Sentiment Score: -0.557\n",
      "\n",
      "\n",
      "Most Favorited Tweet: 📝 A new year means new goals, hopes, and dreams. This week we’ve been reflecting on a few resolution ideas to share… https://t.co/K5XFC4yjfC\n",
      "Sentiment Score:  0.670\n",
      "Number of Favorites:  1244\n",
      "\n",
      "\n",
      "Most Retweeted Tweet: RT @nrlsyirahfaisal: PETITION FOR KFC TO BRING BACK CHEESY BBQ MELTS AND KEEP IT A PERMANENT DISH IN THE MENU PLEASE 2022 RESOLUTION AH htt…\n",
      "Sentiment Score:  0.465\n",
      "Number of Retweets:  2069\n"
     ]
    }
   ],
   "source": [
    "sentiment_report(df.query(\"Hopes_Dreams == True\").reset_index())"
   ]
  },
  {
   "cell_type": "code",
   "execution_count": 12,
   "id": "7a9d57eb",
   "metadata": {},
   "outputs": [
    {
     "name": "stdout",
     "output_type": "stream",
     "text": [
      "Average Sentiment Score: 0.522\n",
      "\n",
      "\n",
      "Most Positive Tweet: RT @antonioguterres: Moments of great difficulty are also moments of great opportunity.\n",
      "\n",
      "To come together in solidarity &amp; move forward with…\n",
      "Sentiment Score:  0.896\n",
      "\n",
      "\n",
      "Most Negative Tweet: RT @AJEnglish: Iran says it has begun paying families over downed Ukraine International Airlines Flight that killed 176 people https://t.co…\n",
      "Sentiment Score: -0.670\n",
      "\n",
      "\n",
      "Most Favorited Tweet: Iran says it has begun paying families over downed Ukraine International Airlines Flight that killed 176 people… https://t.co/TAdG3ZqnPd\n",
      "Sentiment Score: -0.670\n",
      "Number of Favorites:  181\n",
      "\n",
      "\n",
      "Most Retweeted Tweet: RT @antonioguterres: Moments of great difficulty are also moments of great opportunity:\n",
      "\n",
      "To come together in solidarity.\n",
      "\n",
      "To unite behind s…\n",
      "Sentiment Score:  0.896\n",
      "Number of Retweets:  670\n"
     ]
    }
   ],
   "source": [
    "sentiment_report(df.query(\"New_Beginnings == True\").reset_index())"
   ]
  },
  {
   "cell_type": "code",
   "execution_count": null,
   "id": "bc1bed12",
   "metadata": {},
   "outputs": [],
   "source": []
  },
  {
   "cell_type": "markdown",
   "id": "822e12c6",
   "metadata": {},
   "source": [
    "# Now examine the hashtags tweets."
   ]
  },
  {
   "cell_type": "code",
   "execution_count": 13,
   "id": "4d74f079",
   "metadata": {},
   "outputs": [],
   "source": [
    "with open('./data/df_with_hashtags.pickle','rb') as read_file:\n",
    "    df2 = pickle.load(read_file)"
   ]
  },
  {
   "cell_type": "code",
   "execution_count": 14,
   "id": "2696450b",
   "metadata": {},
   "outputs": [
    {
     "name": "stdout",
     "output_type": "stream",
     "text": [
      "<class 'pandas.core.frame.DataFrame'>\n",
      "RangeIndex: 6660 entries, 0 to 6659\n",
      "Data columns (total 18 columns):\n",
      " #   Column               Non-Null Count  Dtype              \n",
      "---  ------               --------------  -----              \n",
      " 0   Created              6660 non-null   datetime64[ns, UTC]\n",
      " 1   User_ID              6660 non-null   float64            \n",
      " 2   User_Name            6660 non-null   object             \n",
      " 3   Text                 6660 non-null   object             \n",
      " 4   Description          6660 non-null   object             \n",
      " 5   Location             6660 non-null   object             \n",
      " 6   Followers_Count      6660 non-null   float64            \n",
      " 7   Friends_Count        6660 non-null   float64            \n",
      " 8   Favorite_Count       6660 non-null   float64            \n",
      " 9   Retweet_Count        6660 non-null   float64            \n",
      " 10  spacy_doc            6660 non-null   object             \n",
      " 11  docs_clean           6660 non-null   object             \n",
      " 12  Text_clean           6660 non-null   object             \n",
      " 13  Alcohol              6660 non-null   bool               \n",
      " 14  Vegan                6660 non-null   bool               \n",
      " 15  NYR_crypto           6660 non-null   bool               \n",
      " 16  Unidentified_hash_1  6660 non-null   bool               \n",
      " 17  Unidentified_hash_1  6660 non-null   bool               \n",
      "dtypes: bool(5), datetime64[ns, UTC](1), float64(5), object(7)\n",
      "memory usage: 709.1+ KB\n"
     ]
    }
   ],
   "source": [
    "df2.info()"
   ]
  },
  {
   "cell_type": "code",
   "execution_count": 15,
   "id": "a1a64385",
   "metadata": {},
   "outputs": [],
   "source": [
    "# Calculate Sentiment score.\n",
    "\n",
    "# Using raw text from tweets (NOT cleaned version).\n",
    "analyzer = SentimentIntensityAnalyzer()\n",
    "df2['score'] = df2.Text.map(analyzer.polarity_scores).map(lambda x: x.get('compound'))"
   ]
  },
  {
   "cell_type": "code",
   "execution_count": 16,
   "id": "8d816116",
   "metadata": {},
   "outputs": [
    {
     "name": "stdout",
     "output_type": "stream",
     "text": [
      "Average Sentiment Score: 0.081\n",
      "\n",
      "\n",
      "Most Positive Tweet: Resolve to read more in 2022. ✨  ✨ ✨ Staff pick. 💖 💖 💖 Life is changing for a small community of Pacific NW loggers… https://t.co/GFP3ZNQpFb\n",
      "Sentiment Score:  0.980\n",
      "\n",
      "\n",
      "Most Negative Tweet: Officially #single 😬😭😭😭😁😁😁😭😭😭😭😭😁😁😁😭😭😭😭😭😭😭😭😭😭😁😁😭😭😭😭😭😁😁😭😭😭😭😭#30s #California #Norcal #40s #divorce #divorceclub… https://t.co/dAbM9qQxPS\n",
      "Sentiment Score: -0.995\n",
      "\n",
      "\n",
      "Most Favorited Tweet: Check this out‼️\n",
      "\n",
      "🥳Start off 2022 with a bang💥and grab $NYR on it's way to the moon!🚀\n",
      " \n",
      " @NYR_Community has the sam… https://t.co/ex8u6Cc9iy\n",
      "Sentiment Score:  0.439\n",
      "Number of Favorites:  496\n",
      "\n",
      "\n",
      "Most Retweeted Tweet: RT @SatlokChannel: Is Drinking Alcohol a Sin?\n",
      "Sant Garibdas ji says\n",
      "Madira peevae kadva paani, sattar janm shwaan ke jaani.\n",
      "A person, who d…\n",
      "Sentiment Score: -0.557\n",
      "Number of Retweets:  3620\n"
     ]
    }
   ],
   "source": [
    "sentiment_report(df2)"
   ]
  },
  {
   "cell_type": "code",
   "execution_count": 17,
   "id": "11ec9ef0",
   "metadata": {
    "scrolled": false
   },
   "outputs": [
    {
     "name": "stdout",
     "output_type": "stream",
     "text": [
      "Average Sentiment Score: -0.294\n",
      "\n",
      "\n",
      "Most Positive Tweet: RT @DSundar007: #NewYearResolution\n",
      "One Should never consume\n",
      "Alcohol in any form, not even by mistake.\n",
      "To know more, get free🆓 book📒\n",
      "\"Way Of…\n",
      "Sentiment Score:  0.872\n",
      "\n",
      "\n",
      "Most Negative Tweet: RT @LAXMIKU21656640: #NewYearResolution\n",
      "#GodMorningSaturday\n",
      "Stop Drinking Alcohol\n",
      "Alcohol is such a dangerous evil that destroys even a hap…\n",
      "Sentiment Score: -0.923\n",
      "\n",
      "\n",
      "Most Favorited Tweet: #NewYearResolution\n",
      "#GodMorningMonday\n",
      "Whether intoxication is of alcohol, hemp, opium, heroine etc, it will become a… https://t.co/o9rE0OPGPf\n",
      "Sentiment Score:  0.572\n",
      "Number of Favorites:  5\n",
      "\n",
      "\n",
      "Most Retweeted Tweet: RT @SatlokChannel: Is Drinking Alcohol a Sin?\n",
      "Sant Garibdas ji says\n",
      "Madira peevae kadva paani, sattar janm shwaan ke jaani.\n",
      "A person, who d…\n",
      "Sentiment Score: -0.557\n",
      "Number of Retweets:  3620\n"
     ]
    }
   ],
   "source": [
    "sentiment_report(df2.query(\"Alcohol == True\").reset_index())"
   ]
  },
  {
   "cell_type": "code",
   "execution_count": 18,
   "id": "c3f6d10b",
   "metadata": {},
   "outputs": [
    {
     "name": "stdout",
     "output_type": "stream",
     "text": [
      "Average Sentiment Score: -0.194\n",
      "\n",
      "\n",
      "Most Positive Tweet: We've got to keep it together for the animals! 🤣\n",
      "Look after yourselves, give your pets all the kindness and care th… https://t.co/HI9J4PiJlW\n",
      "Sentiment Score:  0.866\n",
      "\n",
      "\n",
      "Most Negative Tweet: RT @Supinderdass1: #NewYearResolution\n",
      "The man who use to eat meat 🍖, 🍷 drink alcohol and does any kind of evil he has s not ....\n",
      "HINDU...\n",
      "M…\n",
      "Sentiment Score: -0.690\n",
      "\n",
      "\n",
      "Most Favorited Tweet: If your #NewYearsResolution is to be healthy, kinder to the planet AND animals, consider this ☝️ https://t.co/ZLcGzokk0P\n",
      "Sentiment Score:  0.710\n",
      "Number of Favorites:  28\n",
      "\n",
      "\n",
      "Most Retweeted Tweet: RT @simple_LivingR: #NewYearResolution\n",
      "Those, who eat meat as well as who drink alcohol &amp; practice adultery are beheaded for 70 births in t…\n",
      "Sentiment Score:  0.273\n",
      "Number of Retweets:  1408\n"
     ]
    }
   ],
   "source": [
    "sentiment_report(df2.query(\"Vegan == True\").reset_index())"
   ]
  },
  {
   "cell_type": "code",
   "execution_count": null,
   "id": "b19816e5",
   "metadata": {},
   "outputs": [],
   "source": []
  },
  {
   "cell_type": "markdown",
   "id": "dc0db0db",
   "metadata": {},
   "source": [
    "## Create figure for average sentiment analysis."
   ]
  },
  {
   "cell_type": "code",
   "execution_count": 19,
   "id": "47d815cd",
   "metadata": {},
   "outputs": [],
   "source": [
    "topic_lst = [\"Politics\", \"Giveaways\", \"Finances\", \"Travel\", \"Hopes_Dreams\",\n",
    "             \"New_Beginnings\", \"K_Pop_Band\"]\n",
    "\n",
    "sentiment_lst = []\n",
    "\n",
    "for x in topic_lst:\n",
    "    sentiment_lst.append(np.mean(df.query(f\"{x} == True\").score))"
   ]
  },
  {
   "cell_type": "code",
   "execution_count": 20,
   "id": "7aff29af",
   "metadata": {},
   "outputs": [],
   "source": [
    "topic_lst2 = [\"Alcohol\", \"Vegan\"]\n",
    "\n",
    "for x in topic_lst2:\n",
    "    query_search = f\"{x} == True\"\n",
    "    sentiment_lst.append(np.mean(df2.query(query_search).score))"
   ]
  },
  {
   "cell_type": "code",
   "execution_count": 21,
   "id": "8d6425a1",
   "metadata": {},
   "outputs": [
    {
     "data": {
      "image/png": "[encoded data removed]",
      "text/plain": [
       "<Figure size 576x432 with 1 Axes>"
      ]
     },
     "metadata": {
      "needs_background": "light"
     },
     "output_type": "display_data"
    }
   ],
   "source": [
    "names_lst = topic_lst + topic_lst2\n",
    "labels = [\"Politics\", \"Giveaways\", \"Finances\", \"Travel\", \"Hopes/Dreams/Goals\",\n",
    "             \"New Beginnings\", \"K-Pop Band\", \"Alcohol Reduction\", \"Veganism\"]\n",
    "colors = [(\"indianred\" if x < 0 else \"mediumseagreen\") for x in sentiment_lst]\n",
    "\n",
    "plt.figure(figsize=(8, 6))\n",
    "\n",
    "plt.bar(names_lst, sentiment_lst, color = colors)\n",
    "\n",
    "plt.title(\"Average Sentiment for Identified Topics\", weight = \"bold\", size=14)\n",
    "plt.xticks(names_lst, labels, rotation = 45, ha='right', weight = \"bold\")\n",
    "plt.ylabel(\"Sentiment Score\", weight=\"bold\")\n",
    "plt.yticks(weight = \"bold\")\n",
    "\n",
    "for i,v in enumerate(sentiment_lst):\n",
    "    if v < 0:\n",
    "        plt.text(i, v-0.03, f\"{v:.2f}\", ha = \"center\", color='k', fontweight='bold')\n",
    "    else:\n",
    "        plt.text(i, v+0.01, f\"{v:.2f}\", ha = \"center\", color='k', fontweight='bold')\n",
    "\n",
    "plt.tight_layout();\n",
    "plt.savefig('./Figures/sentiment_graph.png', dpi=200)"
   ]
  },
  {
   "cell_type": "code",
   "execution_count": null,
   "id": "be7edb21",
   "metadata": {},
   "outputs": [],
   "source": []
  },
  {
   "cell_type": "code",
   "execution_count": null,
   "id": "15a0a727",
   "metadata": {},
   "outputs": [],
   "source": []
  },
  {
   "cell_type": "markdown",
   "id": "f5744bee",
   "metadata": {},
   "source": [
    "## Scattertext Figure."
   ]
  },
  {
   "cell_type": "code",
   "execution_count": 27,
   "id": "2f2bc3b2",
   "metadata": {},
   "outputs": [],
   "source": [
    "df_scatter = pd.concat([df[[\"score\", \"Text\", \"User_ID\"]], df2[[\"score\", \"Text\", \"User_ID\"]]])\n",
    "df_scatter = df_scatter.query(\"score != 0.0\")\n",
    "\n",
    "df_scatter[\"sentiment\"] = df_scatter.score.map(lambda x: \"Positive\" if x>0 else \"Negative\")"
   ]
  },
  {
   "cell_type": "code",
   "execution_count": 28,
   "id": "b6a17e9d",
   "metadata": {},
   "outputs": [
    {
     "data": {
      "text/plain": [
       "Positive    8056\n",
       "Negative    3954\n",
       "Name: sentiment, dtype: int64"
      ]
     },
     "execution_count": 28,
     "metadata": {},
     "output_type": "execute_result"
    }
   ],
   "source": [
    "df_scatter[\"sentiment\"].value_counts()"
   ]
  },
  {
   "cell_type": "code",
   "execution_count": 29,
   "id": "c933dc74",
   "metadata": {},
   "outputs": [],
   "source": [
    "# Build the corpus.\n",
    "\n",
    "corpus = st.CorpusFromPandas(\n",
    "    df_scatter,\n",
    "    category_col =  \"sentiment\",\n",
    "    text_col = \"Text\", \n",
    "    nlp=st.whitespace_nlp_with_sentences\n",
    ").build()"
   ]
  },
  {
   "cell_type": "code",
   "execution_count": 30,
   "id": "d4d89f76",
   "metadata": {},
   "outputs": [],
   "source": [
    "# Create the HTML.\n",
    "\n",
    "html = st.produce_scattertext_explorer(\n",
    "        corpus,\n",
    "        category= \"Positive\", \n",
    "        category_name=  \"Positive\", \n",
    "        not_category_name= \"Negative\", \n",
    "        minimum_term_frequency=10,\n",
    "        pmi_threshold_coefficient=5,\n",
    "        width_in_pixels=1000,\n",
    "        metadata=df_scatter['User_ID'],\n",
    "        )"
   ]
  },
  {
   "cell_type": "code",
   "execution_count": 31,
   "id": "8deaaa65",
   "metadata": {},
   "outputs": [],
   "source": [
    "# Explore the HTML.\n",
    "\n",
    "open('./Figures/tweet_sentiment.html', 'wb').write(html.encode('utf-8'));"
   ]
  },
  {
   "cell_type": "code",
   "execution_count": null,
   "id": "df66433d",
   "metadata": {},
   "outputs": [],
   "source": []
  },
  {
   "cell_type": "markdown",
   "id": "5dfc0db7",
   "metadata": {},
   "source": [
    "## Explore potential differences in twitter search term datasets."
   ]
  },
  {
   "cell_type": "code",
   "execution_count": 44,
   "id": "f14a1048",
   "metadata": {},
   "outputs": [
    {
     "name": "stdout",
     "output_type": "stream",
     "text": [
      "For text download, Mean followers: 17279.4, Mean friends: 1288.9, Mean favorites: 7.5, Mean retweets: 74.7\n",
      "For hashtag download, Mean followers: 3006.8, Mean friends: 1211.2, Mean favorites: 0.6, Mean retweets: 217.6\n"
     ]
    }
   ],
   "source": [
    "print(f\"For text download, Mean followers: {np.mean(df.Followers_Count):.1f}, \\\n",
    "Mean friends: {np.mean(df.Friends_Count):.1f}, Mean favorites: {np.mean(df.Favorite_Count):.1f}, \\\n",
    "Mean retweets: {np.mean(df.Retweet_Count):.1f}\")\n",
    "\n",
    "print(f\"For hashtag download, Mean followers: {np.mean(df2.Followers_Count):.1f}, \\\n",
    "Mean friends: {np.mean(df2.Friends_Count):.1f}, Mean favorites: {np.mean(df2.Favorite_Count):.1f}, \\\n",
    "Mean retweets: {np.mean(df2.Retweet_Count):.1f}\")"
   ]
  },
  {
   "cell_type": "code",
   "execution_count": 45,
   "id": "2e66201d",
   "metadata": {},
   "outputs": [
    {
     "name": "stdout",
     "output_type": "stream",
     "text": [
      "For text download, Median followers: 354.0, Median friends: 418.0, Median favorites: 0.0, Median retweets: 0.0\n",
      "For hashtag download, Median followers: 196.0, Median friends: 214.0, Median favorites: 0.0, Median retweets: 5.0\n"
     ]
    }
   ],
   "source": [
    "print(f\"For text download, Median followers: {np.median(df.Followers_Count):.1f}, \\\n",
    "Median friends: {np.median(df.Friends_Count):.1f}, Median favorites: {np.median(df.Favorite_Count):.1f}, \\\n",
    "Median retweets: {np.median(df.Retweet_Count):.1f}\")\n",
    "\n",
    "print(f\"For hashtag download, Median followers: {np.median(df2.Followers_Count):.1f}, \\\n",
    "Median friends: {np.median(df2.Friends_Count):.1f}, Median favorites: {np.median(df2.Favorite_Count):.1f}, \\\n",
    "Median retweets: {np.median(df2.Retweet_Count):.1f}\")"
   ]
  },
  {
   "cell_type": "code",
   "execution_count": null,
   "id": "05aaafdd",
   "metadata": {},
   "outputs": [],
   "source": []
  }
 ],
 "metadata": {
  "kernelspec": {
   "display_name": "Python 3",
   "language": "python",
   "name": "python3"
  },
  "language_info": {
   "codemirror_mode": {
    "name": "ipython",
    "version": 3
   },
   "file_extension": ".py",
   "mimetype": "text/x-python",
   "name": "python",
   "nbconvert_exporter": "python",
   "pygments_lexer": "ipython3",
   "version": "3.8.11"
  }
 },
 "nbformat": 4,
 "nbformat_minor": 5
}
