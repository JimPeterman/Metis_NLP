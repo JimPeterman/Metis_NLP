{
 "cells": [
  {
   "cell_type": "markdown",
   "id": "0f61b7aa",
   "metadata": {},
   "source": [
    "### Use Tweepy to scrape tweets about New Years Resolutions.\n",
    "\n",
    "Scrape tweets and put them into a dataframe. \n",
    "\n",
    "_(Requires \"Elevated\" Twitter Developer access.)_"
   ]
  },
  {
   "cell_type": "code",
   "execution_count": 1,
   "id": "c2b5c244",
   "metadata": {},
   "outputs": [],
   "source": [
    "import tweepy\n",
    "import pandas as pd\n",
    "import time\n",
    "import pickle"
   ]
  },
  {
   "cell_type": "code",
   "execution_count": 2,
   "id": "edc87a80",
   "metadata": {},
   "outputs": [],
   "source": [
    "# Actual keys/tokens come from Twitter developer credentials. \n",
    "\n",
    "consumer_key = '###'\n",
    "consumer_secret = '###'\n",
    "access_token = '###'\n",
    "access_token_secret = '###'"
   ]
  },
  {
   "cell_type": "code",
   "execution_count": 3,
   "id": "3741a2a4",
   "metadata": {},
   "outputs": [
    {
     "name": "stdout",
     "output_type": "stream",
     "text": [
      "Authentication OK\n"
     ]
    }
   ],
   "source": [
    "# Setup (and verify) Tweepy authorization.\n",
    "\n",
    "auth = tweepy.OAuthHandler(consumer_key, consumer_secret)\n",
    "auth.set_access_token(access_token, access_token_secret)\n",
    "api = tweepy.API(auth, wait_on_rate_limit=True)\n",
    "\n",
    "\n",
    "try:\n",
    "    api.verify_credentials()\n",
    "    print(\"Authentication OK\")\n",
    "\n",
    "except:\n",
    "    print(\"Error during authentication\")"
   ]
  },
  {
   "cell_type": "markdown",
   "id": "b6e37b70",
   "metadata": {},
   "source": [
    "### Scrape the tweets (few different searches performed)\n",
    "\n",
    "Unfortunately, limited to searching back only 7 days."
   ]
  },
  {
   "cell_type": "code",
   "execution_count": 4,
   "id": "f700b8df",
   "metadata": {},
   "outputs": [],
   "source": [
    "# Dataframe to write results to.\n",
    "df_tweets_query = pd.DataFrame()"
   ]
  },
  {
   "cell_type": "code",
   "execution_count": 28,
   "id": "13906403",
   "metadata": {},
   "outputs": [],
   "source": [
    "# Search 1.\n",
    "\n",
    "try:\n",
    "    # Creation of query method using parameters\n",
    "    tweets = tweepy.Cursor(api.search_tweets,\n",
    "                           q = 'new years resolution -filter:retweets',\n",
    "                           lang = \"en\", # only tweets in english\n",
    "                           until = \"2022-01-08\").items(10) # trying to get close to new years day.\n",
    "    \n",
    "    # Pulling information from tweets iterable object and adding relevant tweet information in our data frame\n",
    "    for tweet in tweets:\n",
    "        df_tweets_query = df_tweets_query.append(\n",
    "                          {'Created': tweet.created_at,\n",
    "                           'User_ID': tweet.id,\n",
    "                           'User_Name': tweet.user._json['name'],\n",
    "                           'Text': tweet.text,\n",
    "                           'Description': tweet.user._json['description'],\n",
    "                           'Location': tweet.user._json['location'],\n",
    "                           'Followers_Count': tweet.user._json['followers_count'],\n",
    "                           'Friends_Count': tweet.user._json['friends_count'],\n",
    "                           'Favorite_Count': tweet.favorite_count,\n",
    "                           'Retweet_Count': tweet.retweet_count,\n",
    "                         }, ignore_index=True)\n",
    "\n",
    "        \n",
    "except BaseException as e:\n",
    "    print('failed on_status,',str(e))\n",
    "    time.sleep(3)"
   ]
  },
  {
   "cell_type": "code",
   "execution_count": 7,
   "id": "134cbc35",
   "metadata": {},
   "outputs": [
    {
     "data": {
      "text/plain": [
       "(5000, 10)"
      ]
     },
     "execution_count": 7,
     "metadata": {},
     "output_type": "execute_result"
    }
   ],
   "source": [
    "df_tweets_query.shape"
   ]
  },
  {
   "cell_type": "code",
   "execution_count": 11,
   "id": "cd1aff64",
   "metadata": {},
   "outputs": [
    {
     "name": "stderr",
     "output_type": "stream",
     "text": [
      "Rate limit reached. Sleeping for: 621\n",
      "Rate limit reached. Sleeping for: 831\n"
     ]
    }
   ],
   "source": [
    "# Search 2.\n",
    "\n",
    "try:\n",
    "    # Creation of query method using parameters\n",
    "    tweets = tweepy.Cursor(api.search_tweets,\n",
    "                           q = '2022 resolution',\n",
    "                           lang = \"en\", # only tweets in english\n",
    "                           until = \"2022-01-08\").items(5000)\n",
    "    \n",
    "    # Pulling information from tweets iterable object and adding relevant tweet information in our data frame\n",
    "    for tweet in tweets:\n",
    "        df_tweets_query = df_tweets_query.append(\n",
    "                          {'Created': tweet.created_at,\n",
    "                           'User_ID': tweet.id,\n",
    "                           'User_Name': tweet.user._json['name'],\n",
    "                           'Text': tweet.text,\n",
    "                           'Description': tweet.user._json['description'],\n",
    "                           'Location': tweet.user._json['location'],\n",
    "                           'Followers_Count': tweet.user._json['followers_count'],\n",
    "                           'Friends_Count': tweet.user._json['friends_count'],\n",
    "                           'Favorite_Count': tweet.favorite_count,\n",
    "                           'Retweet_Count': tweet.retweet_count,\n",
    "                         }, ignore_index=True)\n",
    "        \n",
    "except BaseException as e:\n",
    "    print('failed on_status,',str(e))\n",
    "    time.sleep(3)"
   ]
  },
  {
   "cell_type": "code",
   "execution_count": 12,
   "id": "dadf5076",
   "metadata": {},
   "outputs": [
    {
     "data": {
      "text/plain": [
       "(10000, 10)"
      ]
     },
     "execution_count": 12,
     "metadata": {},
     "output_type": "execute_result"
    }
   ],
   "source": [
    "df_tweets_query.shape"
   ]
  },
  {
   "cell_type": "code",
   "execution_count": 7,
   "id": "d6c34564",
   "metadata": {},
   "outputs": [
    {
     "name": "stderr",
     "output_type": "stream",
     "text": [
      "Rate limit reached. Sleeping for: 691\n"
     ]
    }
   ],
   "source": [
    "# Search 3.\n",
    "# After searches 1 and 2 (above), decided to go back and search for more tweets.\n",
    "# This search was done ~1 week after the above searches (#1 and #2).\n",
    "# Since it was a bit later, there's no date limit.\n",
    "\n",
    "try:\n",
    "    # Creation of query method using parameters\n",
    "    tweets = tweepy.Cursor(api.search_tweets,\n",
    "                           q = '#newyearresolution',\n",
    "                           lang = \"en\").items(5000)\n",
    "    \n",
    "    # Pulling information from tweets iterable object and adding relevant tweet information in our data frame\n",
    "    for tweet in tweets:\n",
    "        df_tweets_query = df_tweets_query.append(\n",
    "                          {'Created': tweet.created_at,\n",
    "                           'User_ID': tweet.id,\n",
    "                           'User_Name': tweet.user._json['name'],\n",
    "                           'Text': tweet.text,\n",
    "                           'Description': tweet.user._json['description'],\n",
    "                           'Location': tweet.user._json['location'],\n",
    "                           'Followers_Count': tweet.user._json['followers_count'],\n",
    "                           'Friends_Count': tweet.user._json['friends_count'],\n",
    "                           'Favorite_Count': tweet.favorite_count,\n",
    "                           'Retweet_Count': tweet.retweet_count,\n",
    "                         }, ignore_index=True)\n",
    "        \n",
    "except BaseException as e:\n",
    "    print('failed on_status,',str(e))\n",
    "    time.sleep(3)"
   ]
  },
  {
   "cell_type": "code",
   "execution_count": 10,
   "id": "c4530520",
   "metadata": {},
   "outputs": [
    {
     "name": "stderr",
     "output_type": "stream",
     "text": [
      "Rate limit reached. Sleeping for: 295\n"
     ]
    }
   ],
   "source": [
    "# Search 4.\n",
    "# After searches 1 and 2 (above), decided to go back and search for more tweets.\n",
    "# This search was also done ~1 week after the above searches (#1 and #2).\n",
    "\n",
    "try:\n",
    "    # Creation of query method using parameters\n",
    "    tweets = tweepy.Cursor(api.search_tweets,\n",
    "                           q = '#newyearsresolution',\n",
    "                           lang = \"en\").items(5000)\n",
    "    \n",
    "    # Pulling information from tweets iterable object and adding relevant tweet information in our data frame\n",
    "    for tweet in tweets:\n",
    "        df_tweets_query = df_tweets_query.append(\n",
    "                          {'Created': tweet.created_at,\n",
    "                           'User_ID': tweet.id,\n",
    "                           'User_Name': tweet.user._json['name'],\n",
    "                           'Text': tweet.text,\n",
    "                           'Description': tweet.user._json['description'],\n",
    "                           'Location': tweet.user._json['location'],\n",
    "                           'Followers_Count': tweet.user._json['followers_count'],\n",
    "                           'Friends_Count': tweet.user._json['friends_count'],\n",
    "                           'Favorite_Count': tweet.favorite_count,\n",
    "                           'Retweet_Count': tweet.retweet_count,\n",
    "                         }, ignore_index=True)\n",
    "        \n",
    "except BaseException as e:\n",
    "    print('failed on_status,',str(e))\n",
    "    time.sleep(3)"
   ]
  },
  {
   "cell_type": "code",
   "execution_count": 11,
   "id": "7c8560e8",
   "metadata": {},
   "outputs": [
    {
     "data": {
      "text/plain": [
       "(6660, 10)"
      ]
     },
     "execution_count": 11,
     "metadata": {},
     "output_type": "execute_result"
    }
   ],
   "source": [
    "df_tweets_query.shape"
   ]
  },
  {
   "cell_type": "code",
   "execution_count": 12,
   "id": "1f4f9429",
   "metadata": {},
   "outputs": [],
   "source": [
    "# Save and clean as needed later. \n",
    "\n",
    "with open('./data/tweets_n3.pickle', 'wb') as to_write:\n",
    "    pickle.dump(df_tweets_query, to_write)"
   ]
  },
  {
   "cell_type": "code",
   "execution_count": null,
   "id": "3965c0c0",
   "metadata": {},
   "outputs": [],
   "source": []
  }
 ],
 "metadata": {
  "kernelspec": {
   "display_name": "Python 3",
   "language": "python",
   "name": "python3"
  },
  "language_info": {
   "codemirror_mode": {
    "name": "ipython",
    "version": 3
   },
   "file_extension": ".py",
   "mimetype": "text/x-python",
   "name": "python",
   "nbconvert_exporter": "python",
   "pygments_lexer": "ipython3",
   "version": "3.8.11"
  }
 },
 "nbformat": 4,
 "nbformat_minor": 5
}
